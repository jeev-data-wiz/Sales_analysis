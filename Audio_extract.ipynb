{
  "nbformat": 4,
  "nbformat_minor": 0,
  "metadata": {
    "colab": {
      "provenance": [],
      "mount_file_id": "16j6vcpIsy02gWWl0zRxq7wzPJlXauP3N",
      "authorship_tag": "ABX9TyOZ/9BtxNfEasaRlNcXaFx5",
      "include_colab_link": true
    },
    "kernelspec": {
      "name": "python3",
      "display_name": "Python 3"
    },
    "language_info": {
      "name": "python"
    }
  },
  "cells": [
    {
      "cell_type": "markdown",
      "metadata": {
        "id": "view-in-github",
        "colab_type": "text"
      },
      "source": [
        "<a href=\"https://colab.research.google.com/github/jeev-data-wiz/Sales_analysis/blob/changes/Audio_extract.ipynb\" target=\"_parent\"><img src=\"https://colab.research.google.com/assets/colab-badge.svg\" alt=\"Open In Colab\"/></a>"
      ]
    },
    {
      "cell_type": "code",
      "source": [
        "import librosa\n",
        "import numpy as np\n",
        "\n",
        "wav_file = r'/VID_20221020_111210_out.wav'\n",
        "wav_data, sr = librosa.load(wav_file, sr=8000, mono=True)\n",
        "print(wav_data.shape)"
      ],
      "metadata": {
        "colab": {
          "base_uri": "https://localhost:8080/"
        },
        "id": "hi6aQoKamzVe",
        "outputId": "8548653e-c295-453e-a329-cc77b78702bc"
      },
      "execution_count": null,
      "outputs": [
        {
          "output_type": "stream",
          "name": "stdout",
          "text": [
            "(130219,)\n"
          ]
        }
      ]
    },
    {
      "cell_type": "code",
      "source": [
        "#extract F0 using yin\n",
        "f0 = librosa.yin(wav_data, fmin = librosa.note_to_hz('C2'), fmax= librosa.note_to_hz('C7'))\n",
        "print(f0.shape)\n",
        "print(f0)"
      ],
      "metadata": {
        "colab": {
          "base_uri": "https://localhost:8080/"
        },
        "id": "_EuuZbZwnTo1",
        "outputId": "ce837730-cb81-4a0f-8562-0e79ecf40143"
      },
      "execution_count": null,
      "outputs": [
        {
          "output_type": "stream",
          "name": "stdout",
          "text": [
            "(255,)\n",
            "[  69.31252659  494.69753012  486.8501091   490.08923132 1392.61084094\n",
            "  250.73725728  251.09441748  116.56179948  215.44446139  168.3719422\n",
            " 1391.59490756 1284.00481409   69.11139509  300.63821692  386.75456441\n",
            "  383.35006097  168.91459839 1314.04546527   65.83920392  252.6196063\n",
            "  507.23446841  501.44538907  503.29599352 1328.92572178  108.17098297\n",
            "  301.97365898  169.59213915  168.66973854  362.67986721   69.75628324\n",
            "  351.0186758   350.38929457  360.73461402 1319.51557373   69.1780587\n",
            "  171.98038819  171.55672019  494.4613931  1302.04898743   80.65771878\n",
            "  172.0915695   172.38416564  149.45943404  491.86467937   83.15557283\n",
            "  504.96612659  341.751603   1622.64045869  755.05967897   65.82636531\n",
            "  149.89819599   95.02101807   74.21667442  149.16312243 1586.88392142\n",
            " 1615.05163287   65.23668639 1787.22409248   79.29431152  163.55142944\n",
            "   74.50347324  277.56196108  330.36068521   74.23925796  335.8884227\n",
            "  340.49033264  339.07798031  339.70293736  341.94808107  345.14074786\n",
            "  339.53622766  338.42566866  338.38670739 1234.45839586   81.00684044\n",
            "  343.0923518  1862.00452931  353.02403426  325.87365116  331.17996033\n",
            "  349.13129307   68.77215249  491.5794121  1216.90272883  820.98455267\n",
            "  821.87858766  342.10875318  329.4332945    80.1350165   265.16688273\n",
            "  338.22068638  337.36449945  336.91244072  318.97010851  367.52110643\n",
            "  150.06676032  359.74303399  149.99186613  337.12357324  334.29746462\n",
            "  333.29736369  340.12435632  339.97858127   74.43617587  321.4339451\n",
            "  343.5159629   338.22873846  324.36795952  316.78025172  321.70194587\n",
            "  321.50062798  320.19327962  318.20378493  326.40100372  333.89654842\n",
            "  154.39493013  335.81763033 1329.00726234 1374.06619661   70.05939579\n",
            " 1294.44254938  302.78995865  302.04619786 1417.31375042  517.0035613\n",
            "  116.41094166   79.91755822  515.21404113 1846.93842589  108.66164923\n",
            "  150.51137363 1436.03642831  337.38840217  337.73845315   74.70491329\n",
            "  344.1501678   343.3233936    79.61160492  149.91643463  149.4450705\n",
            "  147.84755192   74.85904203  348.59664677  339.91977629 2205.\n",
            " 2205.          337.96372127  390.43336506  405.8245702   333.2466854\n",
            "  510.51054661  209.7585546   349.49657998  337.12056048   87.43894794\n",
            "  430.51188981  423.68167068  433.34058964  452.65214065  481.31634359\n",
            "  479.48086108  459.2207342   457.87310129  462.96646314  467.57791556\n",
            "  465.0113982   468.37505671  474.44873677  437.89963157  475.29527907\n",
            "  109.17523406  484.81001117  488.09973273  459.92409704  402.08948702\n",
            "  411.5096593   421.5537547   426.56681164  423.89579415   71.63501892\n",
            "  421.12106073  422.18614691  400.74356737  213.96777587   72.90936953\n",
            "  149.51223212  156.72917135  157.35246186  229.89754568   75.85880586\n",
            "  166.8572739   159.71105701 2205.         2205.           74.61553465\n",
            "  152.77246682 2205.          328.247818     81.65635841  369.30679218\n",
            "  356.09223712  373.93123416  377.45946131  323.61188926  329.42497401\n",
            "  164.48248328 1488.98001461   73.00203137  109.33870959   93.42559251\n",
            "   93.34024845   77.16518144   75.13784954   75.51805452  378.25562636\n",
            "  156.01016518  155.75359761  159.29433062  324.56996714  294.81449083\n",
            "  295.48358673  305.13548772  320.47058261 2205.         1554.84358809\n",
            "  278.28262415  315.17754913   65.23668639 2205.          298.36059972\n",
            "   84.54046839   78.67289574   93.53756613  142.14794147 2205.\n",
            "   91.54101395  110.48080507 2205.         2205.          385.548658\n",
            "   72.13213568  323.57911273  344.10771148  548.28685272 1995.7723568\n",
            "  108.74645154  313.73500954  347.52175339  461.67860473  204.50156067\n",
            "  168.24652679   75.79675945   74.58400939  155.35578443   71.95295024]\n"
          ]
        }
      ]
    },
    {
      "cell_type": "code",
      "source": [
        "  if hop_length is None:\n",
        "        hop_length = frame_length // 4"
      ],
      "metadata": {
        "colab": {
          "base_uri": "https://localhost:8080/",
          "height": 182
        },
        "id": "yBjBls_unY2l",
        "outputId": "2867bc7c-fb89-41db-e240-d7a874f348ff"
      },
      "execution_count": null,
      "outputs": [
        {
          "output_type": "error",
          "ename": "NameError",
          "evalue": "ignored",
          "traceback": [
            "\u001b[0;31m---------------------------------------------------------------------------\u001b[0m",
            "\u001b[0;31mNameError\u001b[0m                                 Traceback (most recent call last)",
            "\u001b[0;32m<ipython-input-3-0ce6aee7bd6e>\u001b[0m in \u001b[0;36m<module>\u001b[0;34m\u001b[0m\n\u001b[0;32m----> 1\u001b[0;31m \u001b[0;32mif\u001b[0m \u001b[0mhop_length\u001b[0m \u001b[0;32mis\u001b[0m \u001b[0;32mNone\u001b[0m\u001b[0;34m:\u001b[0m\u001b[0;34m\u001b[0m\u001b[0;34m\u001b[0m\u001b[0m\n\u001b[0m\u001b[1;32m      2\u001b[0m       \u001b[0mhop_length\u001b[0m \u001b[0;34m=\u001b[0m \u001b[0mframe_length\u001b[0m \u001b[0;34m//\u001b[0m \u001b[0;36m4\u001b[0m\u001b[0;34m\u001b[0m\u001b[0;34m\u001b[0m\u001b[0m\n",
            "\u001b[0;31mNameError\u001b[0m: name 'hop_length' is not defined"
          ]
        }
      ]
    },
    {
      "cell_type": "code",
      "source": [
        "f0 = librosa.yin(wav_data, sr = 8000, fmin = librosa.note_to_hz('C2'), fmax= librosa.note_to_hz('C7'))\n",
        "print(f0.shape)"
      ],
      "metadata": {
        "colab": {
          "base_uri": "https://localhost:8080/"
        },
        "id": "wzR4cYTlnc5l",
        "outputId": "a6b99687-17b6-4751-8959-cdb9e5cedca3"
      },
      "execution_count": null,
      "outputs": [
        {
          "output_type": "stream",
          "name": "stdout",
          "text": [
            "(255,)\n"
          ]
        }
      ]
    },
    {
      "cell_type": "code",
      "source": [
        "times = librosa.times_like(f0)\n",
        "import matplotlib.pyplot as plt\n",
        "fig, ax = plt.subplots()\n",
        "ax.set(title='YIN fundamental frequency estimation')\n",
        "ax.plot(times, f0, label='f0', color='cyan', linewidth=3)\n",
        "ax.legend(loc='upper right')\n",
        "plt.show()"
      ],
      "metadata": {
        "colab": {
          "base_uri": "https://localhost:8080/",
          "height": 281
        },
        "id": "pONfOig8nit0",
        "outputId": "a6ffdddd-c33d-4fd3-b4e8-e91d662b6029"
      },
      "execution_count": null,
      "outputs": [
        {
          "output_type": "display_data",
          "data": {
            "text/plain": [
              "<Figure size 432x288 with 1 Axes>"
            ],
            "image/png": "[encoded data removed]"
          },
          "metadata": {
            "needs_background": "light"
          }
        }
      ]
    },
    {
      "cell_type": "code",
      "source": [
        "f0, vid, vpd = librosa.pyin(wav_data, sr = 8000, fmin = librosa.note_to_hz('C2'), fmax= librosa.note_to_hz('C7'))\n",
        "print(f0.shape)\n",
        "print(f0)\n",
        "print(vid.shape)\n",
        "print(vpd.shape)"
      ],
      "metadata": {
        "colab": {
          "base_uri": "https://localhost:8080/"
        },
        "id": "9nJF4trRnuh1",
        "outputId": "ae04d32f-d57a-41f4-8dac-9dd450f46ca8"
      },
      "execution_count": null,
      "outputs": [
        {
          "output_type": "stream",
          "name": "stdout",
          "text": [
            "(255,)\n",
            "[         nan          nan          nan          nan          nan\n",
            "          nan          nan          nan          nan          nan\n",
            "          nan          nan          nan          nan          nan\n",
            "          nan          nan          nan          nan          nan\n",
            "          nan          nan          nan          nan          nan\n",
            "          nan          nan          nan          nan          nan\n",
            "          nan          nan          nan          nan          nan\n",
            "          nan          nan          nan          nan          nan\n",
            "          nan          nan          nan          nan          nan\n",
            "          nan          nan          nan          nan          nan\n",
            "          nan          nan          nan          nan          nan\n",
            "          nan          nan          nan          nan          nan\n",
            "          nan          nan 119.95585059 119.95585059 122.05264193\n",
            " 123.47082531 122.75968569 123.47082531 124.18608453 124.9054872\n",
            " 123.47082531 122.75968569 122.75968569          nan          nan\n",
            "          nan          nan          nan          nan          nan\n",
            "          nan          nan          nan          nan          nan\n",
            "          nan          nan          nan          nan          nan\n",
            "          nan          nan          nan          nan          nan\n",
            "          nan          nan          nan 122.05264193 121.34967044\n",
            " 120.65074777 123.47082531 123.47082531 121.34967044 116.54094038\n",
            " 124.9054872  122.75968569 117.89508088 117.21605518 116.54094038\n",
            " 116.54094038 115.86971396 115.20235351 118.57804013 121.34967044\n",
            " 123.47082531 122.05264193          nan          nan          nan\n",
            "          nan          nan          nan          nan          nan\n",
            "          nan          nan          nan          nan          nan\n",
            "          nan          nan          nan          nan          nan\n",
            "          nan          nan          nan          nan          nan\n",
            "          nan          nan          nan          nan          nan\n",
            "          nan          nan          nan          nan          nan\n",
            "          nan          nan 127.08879666 122.05264193  79.1413469\n",
            " 156.464662   153.77669276 157.37105257 163.86452094 174.61411572\n",
            " 173.60841241 166.72882232 165.76853496 167.69467256 169.64319079\n",
            " 168.66611791 169.64319079 172.60850154 159.19961612 172.60850154\n",
            " 178.6955272  175.625645   176.64303401 166.72882232 145.98669166\n",
            " 149.39896882 152.89100418 154.66751208 153.77669276 152.89100418\n",
            " 152.89100418 152.89100418 145.14587019          nan          nan\n",
            "          nan          nan          nan          nan          nan\n",
            "          nan          nan          nan          nan          nan\n",
            "          nan          nan          nan          nan          nan\n",
            "          nan          nan          nan          nan          nan\n",
            "          nan          nan          nan          nan          nan\n",
            "          nan          nan          nan          nan          nan\n",
            "          nan          nan          nan          nan          nan\n",
            "          nan          nan          nan          nan          nan\n",
            "          nan          nan          nan          nan          nan\n",
            "          nan          nan          nan          nan          nan\n",
            "          nan          nan          nan          nan          nan\n",
            "          nan          nan          nan          nan          nan\n",
            "          nan          nan          nan          nan          nan\n",
            "          nan          nan          nan          nan          nan]\n",
            "(255,)\n",
            "(255,)\n"
          ]
        }
      ]
    },
    {
      "cell_type": "code",
      "source": [
        "f0 = np.nan_to_num(f0)"
      ],
      "metadata": {
        "id": "w2JRXHkXnvSJ"
      },
      "execution_count": null,
      "outputs": []
    },
    {
      "cell_type": "code",
      "source": [
        "\n",
        "from google.colab import files\n",
        "uploaded = files.upload()"
      ],
      "metadata": {
        "colab": {
          "base_uri": "https://localhost:8080/",
          "height": 73
        },
        "id": "VBND5k-FTL_y",
        "outputId": "095d4da5-e473-4d53-8b59-b0912ee012df"
      },
      "execution_count": null,
      "outputs": [
        {
          "output_type": "display_data",
          "data": {
            "text/plain": [
              "<IPython.core.display.HTML object>"
            ],
            "text/html": [
              "\n",
              "     <input type=\"file\" id=\"files-8050e048-5b47-4165-8728-f56d9cf0d1c7\" name=\"files[]\" multiple disabled\n",
              "        style=\"border:none\" />\n",
              "     <output id=\"result-8050e048-5b47-4165-8728-f56d9cf0d1c7\">\n",
              "      Upload widget is only available when the cell has been executed in the\n",
              "      current browser session. Please rerun this cell to enable.\n",
              "      </output>\n",
              "      <script>// Copyright 2017 Google LLC\n",
              "//\n",
              "// Licensed under the Apache License, Version 2.0 (the \"License\");\n",
              "// you may not use this file except in compliance with the License.\n",
              "// You may obtain a copy of the License at\n",
              "//\n",
              "//      http://www.apache.org/licenses/LICENSE-2.0\n",
              "//\n",
              "// Unless required by applicable law or agreed to in writing, software\n",
              "// distributed under the License is distributed on an \"AS IS\" BASIS,\n",
              "// WITHOUT WARRANTIES OR CONDITIONS OF ANY KIND, either express or implied.\n",
              "// See the License for the specific language governing permissions and\n",
              "// limitations under the License.\n",
              "\n",
              "/**\n",
              " * @fileoverview Helpers for google.colab Python module.\n",
              " */\n",
              "(function(scope) {\n",
              "function span(text, styleAttributes = {}) {\n",
              "  const element = document.createElement('span');\n",
              "  element.textContent = text;\n",
              "  for (const key of Object.keys(styleAttributes)) {\n",
              "    element.style[key] = styleAttributes[key];\n",
              "  }\n",
              "  return element;\n",
              "}\n",
              "\n",
              "// Max number of bytes which will be uploaded at a time.\n",
              "const MAX_PAYLOAD_SIZE = 100 * 1024;\n",
              "\n",
              "function _uploadFiles(inputId, outputId) {\n",
              "  const steps = uploadFilesStep(inputId, outputId);\n",
              "  const outputElement = document.getElementById(outputId);\n",
              "  // Cache steps on the outputElement to make it available for the next call\n",
              "  // to uploadFilesContinue from Python.\n",
              "  outputElement.steps = steps;\n",
              "\n",
              "  return _uploadFilesContinue(outputId);\n",
              "}\n",
              "\n",
              "// This is roughly an async generator (not supported in the browser yet),\n",
              "// where there are multiple asynchronous steps and the Python side is going\n",
              "// to poll for completion of each step.\n",
              "// This uses a Promise to block the python side on completion of each step,\n",
              "// then passes the result of the previous step as the input to the next step.\n",
              "function _uploadFilesContinue(outputId) {\n",
              "  const outputElement = document.getElementById(outputId);\n",
              "  const steps = outputElement.steps;\n",
              "\n",
              "  const next = steps.next(outputElement.lastPromiseValue);\n",
              "  return Promise.resolve(next.value.promise).then((value) => {\n",
              "    // Cache the last promise value to make it available to the next\n",
              "    // step of the generator.\n",
              "    outputElement.lastPromiseValue = value;\n",
              "    return next.value.response;\n",
              "  });\n",
              "}\n",
              "\n",
              "/**\n",
              " * Generator function which is called between each async step of the upload\n",
              " * process.\n",
              " * @param {string} inputId Element ID of the input file picker element.\n",
              " * @param {string} outputId Element ID of the output display.\n",
              " * @return {!Iterable<!Object>} Iterable of next steps.\n",
              " */\n",
              "function* uploadFilesStep(inputId, outputId) {\n",
              "  const inputElement = document.getElementById(inputId);\n",
              "  inputElement.disabled = false;\n",
              "\n",
              "  const outputElement = document.getElementById(outputId);\n",
              "  outputElement.innerHTML = '';\n",
              "\n",
              "  const pickedPromise = new Promise((resolve) => {\n",
              "    inputElement.addEventListener('change', (e) => {\n",
              "      resolve(e.target.files);\n",
              "    });\n",
              "  });\n",
              "\n",
              "  const cancel = document.createElement('button');\n",
              "  inputElement.parentElement.appendChild(cancel);\n",
              "  cancel.textContent = 'Cancel upload';\n",
              "  const cancelPromise = new Promise((resolve) => {\n",
              "    cancel.onclick = () => {\n",
              "      resolve(null);\n",
              "    };\n",
              "  });\n",
              "\n",
              "  // Wait for the user to pick the files.\n",
              "  const files = yield {\n",
              "    promise: Promise.race([pickedPromise, cancelPromise]),\n",
              "    response: {\n",
              "      action: 'starting',\n",
              "    }\n",
              "  };\n",
              "\n",
              "  cancel.remove();\n",
              "\n",
              "  // Disable the input element since further picks are not allowed.\n",
              "  inputElement.disabled = true;\n",
              "\n",
              "  if (!files) {\n",
              "    return {\n",
              "      response: {\n",
              "        action: 'complete',\n",
              "      }\n",
              "    };\n",
              "  }\n",
              "\n",
              "  for (const file of files) {\n",
              "    const li = document.createElement('li');\n",
              "    li.append(span(file.name, {fontWeight: 'bold'}));\n",
              "    li.append(span(\n",
              "        `(${file.type || 'n/a'}) - ${file.size} bytes, ` +\n",
              "        `last modified: ${\n",
              "            file.lastModifiedDate ? file.lastModifiedDate.toLocaleDateString() :\n",
              "                                    'n/a'} - `));\n",
              "    const percent = span('0% done');\n",
              "    li.appendChild(percent);\n",
              "\n",
              "    outputElement.appendChild(li);\n",
              "\n",
              "    const fileDataPromise = new Promise((resolve) => {\n",
              "      const reader = new FileReader();\n",
              "      reader.onload = (e) => {\n",
              "        resolve(e.target.result);\n",
              "      };\n",
              "      reader.readAsArrayBuffer(file);\n",
              "    });\n",
              "    // Wait for the data to be ready.\n",
              "    let fileData = yield {\n",
              "      promise: fileDataPromise,\n",
              "      response: {\n",
              "        action: 'continue',\n",
              "      }\n",
              "    };\n",
              "\n",
              "    // Use a chunked sending to avoid message size limits. See b/62115660.\n",
              "    let position = 0;\n",
              "    do {\n",
              "      const length = Math.min(fileData.byteLength - position, MAX_PAYLOAD_SIZE);\n",
              "      const chunk = new Uint8Array(fileData, position, length);\n",
              "      position += length;\n",
              "\n",
              "      const base64 = btoa(String.fromCharCode.apply(null, chunk));\n",
              "      yield {\n",
              "        response: {\n",
              "          action: 'append',\n",
              "          file: file.name,\n",
              "          data: base64,\n",
              "        },\n",
              "      };\n",
              "\n",
              "      let percentDone = fileData.byteLength === 0 ?\n",
              "          100 :\n",
              "          Math.round((position / fileData.byteLength) * 100);\n",
              "      percent.textContent = `${percentDone}% done`;\n",
              "\n",
              "    } while (position < fileData.byteLength);\n",
              "  }\n",
              "\n",
              "  // All done.\n",
              "  yield {\n",
              "    response: {\n",
              "      action: 'complete',\n",
              "    }\n",
              "  };\n",
              "}\n",
              "\n",
              "scope.google = scope.google || {};\n",
              "scope.google.colab = scope.google.colab || {};\n",
              "scope.google.colab._files = {\n",
              "  _uploadFiles,\n",
              "  _uploadFilesContinue,\n",
              "};\n",
              "})(self);\n",
              "</script> "
            ]
          },
          "metadata": {}
        },
        {
          "output_type": "stream",
          "name": "stdout",
          "text": [
            "Saving marble2.jpg to marble2.jpg\n"
          ]
        }
      ]
    },
    {
      "cell_type": "code",
      "source": [
        "\n",
        "from PIL import Image\n",
        "import os\n",
        "import numpy as np\n",
        "import cv2\n",
        "import webcolors\n",
        "\n",
        "def get_background_color(image_path):\n",
        "    try:\n",
        "        # Open the image\n",
        "        img = Image.open(image_path)\n",
        "\n",
        "        # Convert the image to RGB mode if it's not already in RGB\n",
        "        img = img.convert(\"RGB\")\n",
        "\n",
        "        # Get the most frequent color in the image\n",
        "        background_color = img.getpixel((0, 0))\n",
        "\n",
        "        return background_color\n",
        "    except IOError:\n",
        "        print(f\"Error: Unable to open image '{image_path}'.\")\n",
        "\n",
        "def get_pattern_color(image_path, roi):\n",
        "    try:\n",
        "        # Open the image\n",
        "        img = Image.open(image_path)\n",
        "\n",
        "        # Convert the image to RGB mode if it's not already in RGB\n",
        "        img = img.convert(\"RGB\")\n",
        "\n",
        "        # Get the average color within the specified region of interest (ROI)\n",
        "        cropped_img = img.crop(roi)\n",
        "        pattern_color = cropped_img.resize((1, 1)).getpixel((0, 0))\n",
        "\n",
        "        return pattern_color\n",
        "    except IOError:\n",
        "        print(f\"Error: Unable to open image '{image_path}'.\")\n",
        "    except Exception as e:\n",
        "        print(f\"Error: {e}\")\n",
        "\n",
        "def classify_pattern_thickness(image_path, roi, threshold):\n",
        "    try:\n",
        "        # Open the image\n",
        "        img = Image.open(image_path)\n",
        "\n",
        "        # Get the width of the pattern within the specified region of interest (ROI)\n",
        "        pattern_width = roi[2] - roi[0]\n",
        "\n",
        "        # Classify the pattern as thick or thin based on the width\n",
        "        pattern_thickness = \"thick\" if pattern_width >= threshold else \"thin\"\n",
        "\n",
        "        return pattern_thickness\n",
        "    except IOError:\n",
        "        print(f\"Error: Unable to open image '{image_path}'.\")\n",
        "    except Exception as e:\n",
        "        print(f\"Error: {e}\")\n",
        "\n",
        "def detect_roi(image_path):\n",
        "    try:\n",
        "        # Read the image using OpenCV\n",
        "        img = cv2.imread(image_path)\n",
        "\n",
        "        # Convert the image to grayscale\n",
        "        gray = cv2.cvtColor(img, cv2.COLOR_BGR2GRAY)\n",
        "\n",
        "        # Apply Gaussian blur to reduce noise\n",
        "        blurred = cv2.GaussianBlur(gray, (5, 5), 0)\n",
        "\n",
        "        # Perform edge detection using Canny\n",
        "        edges = cv2.Canny(blurred, 50, 150)\n",
        "\n",
        "        # Find contours in the edge-detected image\n",
        "        contours, _ = cv2.findContours(edges.copy(), cv2.RETR_EXTERNAL, cv2.CHAIN_APPROX_SIMPLE)\n",
        "\n",
        "        # Get the largest contour (assuming it's the marble pattern)\n",
        "        largest_contour = max(contours, key=cv2.contourArea)\n",
        "\n",
        "        # Get the bounding box of the largest contour\n",
        "        x, y, w, h = cv2.boundingRect(largest_contour)\n",
        "\n",
        "        # Define the ROI based on the bounding box\n",
        "        roi = (x, y, x+w, y+h)\n",
        "\n",
        "        return roi\n",
        "    except Exception as e:\n",
        "        print(f\"Error: {e}\")\n",
        "\n",
        "def rename_with_colors_and_thickness(image_path, threshold):\n",
        "    try:\n",
        "        background_color = get_background_color(image_path)\n",
        "        roi = detect_roi(image_path)\n",
        "        pattern_color = get_pattern_color(image_path, roi)\n",
        "        pattern_thickness = classify_pattern_thickness(image_path, roi, threshold)\n",
        "\n",
        "        # Convert RGB colors to string representation\n",
        "        background_color_name = get_color_name(background_color)\n",
        "        pattern_color_name = get_color_name(pattern_color)\n",
        "\n",
        "        # Construct new file name with background color, pattern color, and thickness\n",
        "        new_file_name = f\"{background_color_name}_{pattern_color_name}_{pattern_thickness}\"\n",
        "\n",
        "        # Get the file extension\n",
        "        _, extension = os.path.splitext(image_path)\n",
        "\n",
        "        # Rename the file\n",
        "        os.rename(image_path, new_file_name + extension)\n",
        "\n",
        "        print(f\"File '{image_path}' has been renamed to '{new_file_name}{extension}'.\")\n",
        "    except Exception as e:\n",
        "        print(f\"Error: {e}\")\n",
        "def color_distance(color1,color2):\n",
        "  return sum((c1-c2)**2 for c1,c2 in zip(color1,color2))**0.5\n",
        "\n",
        "def get_color_name(color):\n",
        "  try:\n",
        "    color_name=webcolors.rgb_to_name(color)\n",
        "  except ValueError:\n",
        "    closest_color=min(webcolors.CSS3_NAMES_TO_HEX,key=lambda x:color_distance(color,webcolors.hex_to_rgb(webcolors.CSS3_NAMES_TO_HEX[x])))\n",
        "    color_name=closest_color.replace('-','').title()\n",
        "  return color_name\n",
        "\n",
        "# Example usage:\n",
        "image_path = \"/content/test-marble1.jpg\"\n",
        "threshold = 10  # Example threshold value for pattern thickness classification\n",
        "rename_with_colors_and_thickness(image_path, threshold)"
      ],
      "metadata": {
        "id": "f3ZDMdn7-hs-",
        "colab": {
          "base_uri": "https://localhost:8080/"
        },
        "outputId": "cbc0ffd4-64fe-49cc-bfc2-164210781393"
      },
      "execution_count": 1,
      "outputs": [
        {
          "output_type": "stream",
          "name": "stdout",
          "text": [
            "File '/content/test-marble1.jpg' has been renamed to 'Wheat_Antiquewhite_thick.jpg'.\n"
          ]
        }
      ]
    },
    {
      "cell_type": "code",
      "source": [
        "import os\n",
        "import spacy\n",
        "\n",
        "# Load English language model\n",
        "nlp = spacy.load(\"en_core_web_sm\")\n",
        "\n",
        "def find_matching_files(user_input):\n",
        "    # Tokenize the user input using spaCy\n",
        "    doc = nlp(user_input)\n",
        "\n",
        "    # Extract nouns and adjectives from the user input\n",
        "    keywords = [token.text for token in doc if token.pos_ in ['NOUN', 'ADJ']]\n",
        "\n",
        "    # Get list of filenames in the current directory\n",
        "    filenames = os.listdir()\n",
        "\n",
        "    # Filter filenames based on content matching\n",
        "    matching_files = []\n",
        "    for filename in filenames:\n",
        "        if all(keyword.lower() in filename.lower() for keyword in keywords):\n",
        "            matching_files.append(filename)\n",
        "\n",
        "    return matching_files\n",
        "\n",
        "def main():\n",
        "    user_input = input(\"Enter the text: \")\n",
        "    matching_files = find_matching_files(user_input)\n",
        "\n",
        "    if matching_files:\n",
        "        print(\"Found in the following files:\")\n",
        "        for filename in matching_files:\n",
        "            print(filename)\n",
        "    else:\n",
        "        print(\"No matching files found.\")\n",
        "\n",
        "if __name__ == \"__main__\":\n",
        "    main()\n"
      ],
      "metadata": {
        "id": "XoN2Q4mAVVml",
        "outputId": "5d8bbe6e-0678-45aa-c017-d97ba8ddcd41",
        "colab": {
          "base_uri": "https://localhost:8080/"
        }
      },
      "execution_count": 2,
      "outputs": [
        {
          "output_type": "stream",
          "name": "stdout",
          "text": [
            "Enter the text: antique white thick\n",
            "Found in the following files:\n",
            "Wheat_Antiquewhite_thick.jpg\n"
          ]
        }
      ]
    }
  ]
}